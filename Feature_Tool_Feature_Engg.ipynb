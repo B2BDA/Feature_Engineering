{
 "cells": [
  {
   "cell_type": "code",
   "execution_count": 22,
   "metadata": {},
   "outputs": [
    {
     "name": "stderr",
     "output_type": "stream",
     "text": [
      "/home/b2b/anaconda3/lib/python3.8/site-packages/ipykernel/ipkernel.py:287: DeprecationWarning: `should_run_async` will not call `transform_cell` automatically in the future. Please pass the result to `transformed_cell` argument and any exception that happen during thetransform in `preprocessing_exc_tuple` in IPython 7.17 and above.\n",
      "  and should_run_async(code)\n"
     ]
    },
    {
     "name": "stdout",
     "output_type": "stream",
     "text": [
      "Requirement already satisfied: featuretools[complete] in /home/b2b/anaconda3/lib/python3.8/site-packages (0.23.3)\n",
      "Requirement already satisfied: click>=7.0.0 in /home/b2b/anaconda3/lib/python3.8/site-packages (from featuretools[complete]) (7.1.2)\n",
      "Requirement already satisfied: scipy>=0.13.3 in /home/b2b/anaconda3/lib/python3.8/site-packages (from featuretools[complete]) (1.4.1)\n",
      "Requirement already satisfied: pandas!=1.1.0,!=1.1.1,<2.0.0,>=0.24.1 in /home/b2b/anaconda3/lib/python3.8/site-packages (from featuretools[complete]) (1.1.4)\n",
      "Requirement already satisfied: cloudpickle>=0.4.0 in /home/b2b/anaconda3/lib/python3.8/site-packages (from featuretools[complete]) (1.4.1)\n",
      "Requirement already satisfied: psutil>=5.4.8 in /home/b2b/anaconda3/lib/python3.8/site-packages (from featuretools[complete]) (5.7.2)\n",
      "Requirement already satisfied: pyyaml>=3.12 in /home/b2b/anaconda3/lib/python3.8/site-packages (from featuretools[complete]) (5.3.1)\n",
      "Requirement already satisfied: numpy>=1.13.3 in /home/b2b/anaconda3/lib/python3.8/site-packages (from featuretools[complete]) (1.19.5)\n",
      "Requirement already satisfied: dask[dataframe]>=2.12.0 in /home/b2b/anaconda3/lib/python3.8/site-packages (from featuretools[complete]) (2.19.0)\n",
      "Requirement already satisfied: tqdm>=4.32.0 in /home/b2b/anaconda3/lib/python3.8/site-packages (from featuretools[complete]) (4.50.2)\n",
      "Requirement already satisfied: distributed>=2.12.0 in /home/b2b/anaconda3/lib/python3.8/site-packages (from featuretools[complete]) (2.19.0)\n",
      "Requirement already satisfied: koalas>=1.1.0; extra == \"complete\" in /home/b2b/anaconda3/lib/python3.8/site-packages (from featuretools[complete]) (1.7.0)\n",
      "Requirement already satisfied: autonormalize>=1.0.0; extra == \"complete\" in /home/b2b/anaconda3/lib/python3.8/site-packages (from featuretools[complete]) (1.0.1)\n",
      "Requirement already satisfied: featuretools-update-checker>=1.0.0; extra == \"complete\" in /home/b2b/anaconda3/lib/python3.8/site-packages (from featuretools[complete]) (1.0.2)\n",
      "Requirement already satisfied: featuretools-tsfresh-primitives>=0.1.0; extra == \"complete\" in /home/b2b/anaconda3/lib/python3.8/site-packages (from featuretools[complete]) (0.4.0)\n",
      "Requirement already satisfied: nlp-primitives[complete]>=1.0.0; extra == \"complete\" in /home/b2b/anaconda3/lib/python3.8/site-packages (from featuretools[complete]) (1.1.0)\n",
      "Requirement already satisfied: pyspark>=3.0.0; extra == \"complete\" in /home/b2b/anaconda3/lib/python3.8/site-packages (from featuretools[complete]) (3.1.1)\n",
      "Requirement already satisfied: categorical-encoding>=0.2.0; extra == \"complete\" in /home/b2b/anaconda3/lib/python3.8/site-packages (from featuretools[complete]) (0.4.1)\n",
      "Requirement already satisfied: featuretools-sklearn-transformer>=0.1.1; extra == \"complete\" in /home/b2b/anaconda3/lib/python3.8/site-packages (from featuretools[complete]) (0.2.0)\n",
      "Requirement already satisfied: pytz>=2017.2 in /home/b2b/anaconda3/lib/python3.8/site-packages (from pandas!=1.1.0,!=1.1.1,<2.0.0,>=0.24.1->featuretools[complete]) (2020.1)\n",
      "Requirement already satisfied: python-dateutil>=2.7.3 in /home/b2b/anaconda3/lib/python3.8/site-packages (from pandas!=1.1.0,!=1.1.1,<2.0.0,>=0.24.1->featuretools[complete]) (2.8.0)\n",
      "Requirement already satisfied: fsspec>=0.6.0; extra == \"dataframe\" in /home/b2b/anaconda3/lib/python3.8/site-packages (from dask[dataframe]>=2.12.0->featuretools[complete]) (0.8.3)\n",
      "Requirement already satisfied: toolz>=0.8.2; extra == \"dataframe\" in /home/b2b/anaconda3/lib/python3.8/site-packages (from dask[dataframe]>=2.12.0->featuretools[complete]) (0.11.1)\n",
      "Requirement already satisfied: partd>=0.3.10; extra == \"dataframe\" in /home/b2b/anaconda3/lib/python3.8/site-packages (from dask[dataframe]>=2.12.0->featuretools[complete]) (1.1.0)\n",
      "Requirement already satisfied: setuptools in /home/b2b/anaconda3/lib/python3.8/site-packages (from distributed>=2.12.0->featuretools[complete]) (50.3.1.post20201107)\n",
      "Requirement already satisfied: zict>=0.1.3 in /home/b2b/anaconda3/lib/python3.8/site-packages (from distributed>=2.12.0->featuretools[complete]) (2.0.0)\n",
      "Requirement already satisfied: msgpack>=0.6.0 in /home/b2b/anaconda3/lib/python3.8/site-packages (from distributed>=2.12.0->featuretools[complete]) (1.0.2)\n",
      "Requirement already satisfied: tblib>=1.6.0 in /home/b2b/anaconda3/lib/python3.8/site-packages (from distributed>=2.12.0->featuretools[complete]) (1.7.0)\n",
      "Requirement already satisfied: tornado>=6.0.3; python_version >= \"3.8\" in /home/b2b/anaconda3/lib/python3.8/site-packages (from distributed>=2.12.0->featuretools[complete]) (6.0.4)\n",
      "Requirement already satisfied: sortedcontainers!=2.0.0,!=2.0.1 in /home/b2b/anaconda3/lib/python3.8/site-packages (from distributed>=2.12.0->featuretools[complete]) (2.2.2)\n",
      "Requirement already satisfied: pyarrow>=0.10 in /home/b2b/anaconda3/lib/python3.8/site-packages (from koalas>=1.1.0; extra == \"complete\"->featuretools[complete]) (3.0.0)\n",
      "Requirement already satisfied: requests>=2.22.0 in /home/b2b/anaconda3/lib/python3.8/site-packages (from featuretools-update-checker>=1.0.0; extra == \"complete\"->featuretools[complete]) (2.24.0)\n",
      "Requirement already satisfied: tsfresh>=0.15.0 in /home/b2b/anaconda3/lib/python3.8/site-packages (from featuretools-tsfresh-primitives>=0.1.0; extra == \"complete\"->featuretools[complete]) (0.18.0)\n",
      "Requirement already satisfied: scikit-learn>=0.20.0 in /home/b2b/anaconda3/lib/python3.8/site-packages (from nlp-primitives[complete]>=1.0.0; extra == \"complete\"->featuretools[complete]) (0.23.2)\n",
      "Requirement already satisfied: nltk>=3.4.5 in /home/b2b/anaconda3/lib/python3.8/site-packages (from nlp-primitives[complete]>=1.0.0; extra == \"complete\"->featuretools[complete]) (3.5)\n",
      "Requirement already satisfied: tensorflow-hub>=0.4.0; extra == \"complete\" in /home/b2b/anaconda3/lib/python3.8/site-packages (from nlp-primitives[complete]>=1.0.0; extra == \"complete\"->featuretools[complete]) (0.11.0)\n",
      "Requirement already satisfied: tensorflow>=1.14.0; extra == \"complete\" in /home/b2b/anaconda3/lib/python3.8/site-packages (from nlp-primitives[complete]>=1.0.0; extra == \"complete\"->featuretools[complete]) (2.4.1)\n",
      "Requirement already satisfied: py4j==0.10.9 in /home/b2b/anaconda3/lib/python3.8/site-packages (from pyspark>=3.0.0; extra == \"complete\"->featuretools[complete]) (0.10.9)\n",
      "Requirement already satisfied: category-encoders==2.0.0 in /home/b2b/anaconda3/lib/python3.8/site-packages (from categorical-encoding>=0.2.0; extra == \"complete\"->featuretools[complete]) (2.0.0)\n",
      "Requirement already satisfied: six>=1.5 in /home/b2b/anaconda3/lib/python3.8/site-packages (from python-dateutil>=2.7.3->pandas!=1.1.0,!=1.1.1,<2.0.0,>=0.24.1->featuretools[complete]) (1.15.0)\n",
      "Requirement already satisfied: locket in /home/b2b/anaconda3/lib/python3.8/site-packages (from partd>=0.3.10; extra == \"dataframe\"->dask[dataframe]>=2.12.0->featuretools[complete]) (0.2.0)\n",
      "Requirement already satisfied: heapdict in /home/b2b/anaconda3/lib/python3.8/site-packages (from zict>=0.1.3->distributed>=2.12.0->featuretools[complete]) (1.0.1)\n",
      "Requirement already satisfied: idna<3,>=2.5 in /home/b2b/anaconda3/lib/python3.8/site-packages (from requests>=2.22.0->featuretools-update-checker>=1.0.0; extra == \"complete\"->featuretools[complete]) (2.10)\n",
      "Requirement already satisfied: certifi>=2017.4.17 in /home/b2b/anaconda3/lib/python3.8/site-packages (from requests>=2.22.0->featuretools-update-checker>=1.0.0; extra == \"complete\"->featuretools[complete]) (2019.6.16)\n",
      "Requirement already satisfied: urllib3!=1.25.0,!=1.25.1,<1.26,>=1.21.1 in /home/b2b/anaconda3/lib/python3.8/site-packages (from requests>=2.22.0->featuretools-update-checker>=1.0.0; extra == \"complete\"->featuretools[complete]) (1.25.11)\n",
      "Requirement already satisfied: chardet<4,>=3.0.2 in /home/b2b/anaconda3/lib/python3.8/site-packages (from requests>=2.22.0->featuretools-update-checker>=1.0.0; extra == \"complete\"->featuretools[complete]) (3.0.4)\n",
      "Requirement already satisfied: statsmodels>=0.9.0 in /home/b2b/anaconda3/lib/python3.8/site-packages (from tsfresh>=0.15.0->featuretools-tsfresh-primitives>=0.1.0; extra == \"complete\"->featuretools[complete]) (0.12.0)\n",
      "Requirement already satisfied: matrixprofile>=1.1.10<2.0.0 in /home/b2b/anaconda3/lib/python3.8/site-packages (from tsfresh>=0.15.0->featuretools-tsfresh-primitives>=0.1.0; extra == \"complete\"->featuretools[complete]) (1.1.10)\n",
      "Requirement already satisfied: patsy>=0.4.1 in /home/b2b/anaconda3/lib/python3.8/site-packages (from tsfresh>=0.15.0->featuretools-tsfresh-primitives>=0.1.0; extra == \"complete\"->featuretools[complete]) (0.5.1)\n",
      "Requirement already satisfied: stumpy>=1.7.2 in /home/b2b/anaconda3/lib/python3.8/site-packages (from tsfresh>=0.15.0->featuretools-tsfresh-primitives>=0.1.0; extra == \"complete\"->featuretools[complete]) (1.8.0)\n",
      "Requirement already satisfied: threadpoolctl>=2.0.0 in /home/b2b/anaconda3/lib/python3.8/site-packages (from scikit-learn>=0.20.0->nlp-primitives[complete]>=1.0.0; extra == \"complete\"->featuretools[complete]) (2.1.0)\n",
      "Requirement already satisfied: joblib>=0.11 in /home/b2b/anaconda3/lib/python3.8/site-packages (from scikit-learn>=0.20.0->nlp-primitives[complete]>=1.0.0; extra == \"complete\"->featuretools[complete]) (0.17.0)\n",
      "Requirement already satisfied: regex in /home/b2b/anaconda3/lib/python3.8/site-packages (from nltk>=3.4.5->nlp-primitives[complete]>=1.0.0; extra == \"complete\"->featuretools[complete]) (2020.10.15)\n",
      "Requirement already satisfied: protobuf>=3.8.0 in /home/b2b/anaconda3/lib/python3.8/site-packages (from tensorflow-hub>=0.4.0; extra == \"complete\"->nlp-primitives[complete]>=1.0.0; extra == \"complete\"->featuretools[complete]) (3.14.0)\n"
     ]
    },
    {
     "name": "stdout",
     "output_type": "stream",
     "text": [
      "Requirement already satisfied: absl-py~=0.10 in /home/b2b/anaconda3/lib/python3.8/site-packages (from tensorflow>=1.14.0; extra == \"complete\"->nlp-primitives[complete]>=1.0.0; extra == \"complete\"->featuretools[complete]) (0.10.0)\n",
      "Requirement already satisfied: typing-extensions~=3.7.4 in /home/b2b/anaconda3/lib/python3.8/site-packages (from tensorflow>=1.14.0; extra == \"complete\"->nlp-primitives[complete]>=1.0.0; extra == \"complete\"->featuretools[complete]) (3.7.4.3)\n",
      "Requirement already satisfied: termcolor~=1.1.0 in /home/b2b/anaconda3/lib/python3.8/site-packages (from tensorflow>=1.14.0; extra == \"complete\"->nlp-primitives[complete]>=1.0.0; extra == \"complete\"->featuretools[complete]) (1.1.0)\n",
      "Requirement already satisfied: wheel~=0.35 in /home/b2b/anaconda3/lib/python3.8/site-packages (from tensorflow>=1.14.0; extra == \"complete\"->nlp-primitives[complete]>=1.0.0; extra == \"complete\"->featuretools[complete]) (0.35.1)\n",
      "Requirement already satisfied: flatbuffers~=1.12.0 in /home/b2b/anaconda3/lib/python3.8/site-packages (from tensorflow>=1.14.0; extra == \"complete\"->nlp-primitives[complete]>=1.0.0; extra == \"complete\"->featuretools[complete]) (1.12)\n",
      "Requirement already satisfied: astunparse~=1.6.3 in /home/b2b/anaconda3/lib/python3.8/site-packages (from tensorflow>=1.14.0; extra == \"complete\"->nlp-primitives[complete]>=1.0.0; extra == \"complete\"->featuretools[complete]) (1.6.3)\n",
      "Requirement already satisfied: opt-einsum~=3.3.0 in /home/b2b/anaconda3/lib/python3.8/site-packages (from tensorflow>=1.14.0; extra == \"complete\"->nlp-primitives[complete]>=1.0.0; extra == \"complete\"->featuretools[complete]) (3.3.0)\n",
      "Requirement already satisfied: grpcio~=1.32.0 in /home/b2b/anaconda3/lib/python3.8/site-packages (from tensorflow>=1.14.0; extra == \"complete\"->nlp-primitives[complete]>=1.0.0; extra == \"complete\"->featuretools[complete]) (1.32.0)\n",
      "Requirement already satisfied: keras-preprocessing~=1.1.2 in /home/b2b/anaconda3/lib/python3.8/site-packages (from tensorflow>=1.14.0; extra == \"complete\"->nlp-primitives[complete]>=1.0.0; extra == \"complete\"->featuretools[complete]) (1.1.2)\n",
      "Requirement already satisfied: h5py~=2.10.0 in /home/b2b/anaconda3/lib/python3.8/site-packages (from tensorflow>=1.14.0; extra == \"complete\"->nlp-primitives[complete]>=1.0.0; extra == \"complete\"->featuretools[complete]) (2.10.0)\n",
      "Requirement already satisfied: wrapt~=1.12.1 in /home/b2b/anaconda3/lib/python3.8/site-packages (from tensorflow>=1.14.0; extra == \"complete\"->nlp-primitives[complete]>=1.0.0; extra == \"complete\"->featuretools[complete]) (1.12.1)\n",
      "Requirement already satisfied: google-pasta~=0.2 in /home/b2b/anaconda3/lib/python3.8/site-packages (from tensorflow>=1.14.0; extra == \"complete\"->nlp-primitives[complete]>=1.0.0; extra == \"complete\"->featuretools[complete]) (0.2.0)\n",
      "Requirement already satisfied: gast==0.3.3 in /home/b2b/anaconda3/lib/python3.8/site-packages (from tensorflow>=1.14.0; extra == \"complete\"->nlp-primitives[complete]>=1.0.0; extra == \"complete\"->featuretools[complete]) (0.3.3)\n",
      "Requirement already satisfied: tensorflow-estimator<2.5.0,>=2.4.0 in /home/b2b/anaconda3/lib/python3.8/site-packages (from tensorflow>=1.14.0; extra == \"complete\"->nlp-primitives[complete]>=1.0.0; extra == \"complete\"->featuretools[complete]) (2.4.0)\n",
      "Requirement already satisfied: tensorboard~=2.4 in /home/b2b/anaconda3/lib/python3.8/site-packages (from tensorflow>=1.14.0; extra == \"complete\"->nlp-primitives[complete]>=1.0.0; extra == \"complete\"->featuretools[complete]) (2.4.1)\n",
      "Requirement already satisfied: matplotlib>=3.0.3 in /home/b2b/anaconda3/lib/python3.8/site-packages (from matrixprofile>=1.1.10<2.0.0->tsfresh>=0.15.0->featuretools-tsfresh-primitives>=0.1.0; extra == \"complete\"->featuretools[complete]) (3.3.2)\n",
      "Requirement already satisfied: numba>=0.48 in /home/b2b/anaconda3/lib/python3.8/site-packages (from stumpy>=1.7.2->tsfresh>=0.15.0->featuretools-tsfresh-primitives>=0.1.0; extra == \"complete\"->featuretools[complete]) (0.51.2)\n",
      "Requirement already satisfied: werkzeug>=0.11.15 in /home/b2b/anaconda3/lib/python3.8/site-packages (from tensorboard~=2.4->tensorflow>=1.14.0; extra == \"complete\"->nlp-primitives[complete]>=1.0.0; extra == \"complete\"->featuretools[complete]) (1.0.1)\n",
      "Requirement already satisfied: tensorboard-plugin-wit>=1.6.0 in /home/b2b/anaconda3/lib/python3.8/site-packages (from tensorboard~=2.4->tensorflow>=1.14.0; extra == \"complete\"->nlp-primitives[complete]>=1.0.0; extra == \"complete\"->featuretools[complete]) (1.7.0)\n",
      "Requirement already satisfied: google-auth<2,>=1.6.3 in /home/b2b/anaconda3/lib/python3.8/site-packages (from tensorboard~=2.4->tensorflow>=1.14.0; extra == \"complete\"->nlp-primitives[complete]>=1.0.0; extra == \"complete\"->featuretools[complete]) (1.24.0)\n",
      "Requirement already satisfied: google-auth-oauthlib<0.5,>=0.4.1 in /home/b2b/anaconda3/lib/python3.8/site-packages (from tensorboard~=2.4->tensorflow>=1.14.0; extra == \"complete\"->nlp-primitives[complete]>=1.0.0; extra == \"complete\"->featuretools[complete]) (0.4.2)\n",
      "Requirement already satisfied: markdown>=2.6.8 in /home/b2b/anaconda3/lib/python3.8/site-packages (from tensorboard~=2.4->tensorflow>=1.14.0; extra == \"complete\"->nlp-primitives[complete]>=1.0.0; extra == \"complete\"->featuretools[complete]) (3.3.3)\n",
      "Requirement already satisfied: kiwisolver>=1.0.1 in /home/b2b/anaconda3/lib/python3.8/site-packages (from matplotlib>=3.0.3->matrixprofile>=1.1.10<2.0.0->tsfresh>=0.15.0->featuretools-tsfresh-primitives>=0.1.0; extra == \"complete\"->featuretools[complete]) (1.3.0)\n",
      "Requirement already satisfied: pillow>=6.2.0 in /home/b2b/anaconda3/lib/python3.8/site-packages (from matplotlib>=3.0.3->matrixprofile>=1.1.10<2.0.0->tsfresh>=0.15.0->featuretools-tsfresh-primitives>=0.1.0; extra == \"complete\"->featuretools[complete]) (6.2.2)\n",
      "Requirement already satisfied: pyparsing!=2.0.4,!=2.1.2,!=2.1.6,>=2.0.3 in /home/b2b/anaconda3/lib/python3.8/site-packages (from matplotlib>=3.0.3->matrixprofile>=1.1.10<2.0.0->tsfresh>=0.15.0->featuretools-tsfresh-primitives>=0.1.0; extra == \"complete\"->featuretools[complete]) (2.4.7)\n",
      "Requirement already satisfied: cycler>=0.10 in /home/b2b/anaconda3/lib/python3.8/site-packages (from matplotlib>=3.0.3->matrixprofile>=1.1.10<2.0.0->tsfresh>=0.15.0->featuretools-tsfresh-primitives>=0.1.0; extra == \"complete\"->featuretools[complete]) (0.10.0)\n",
      "Requirement already satisfied: llvmlite<0.35,>=0.34.0.dev0 in /home/b2b/anaconda3/lib/python3.8/site-packages (from numba>=0.48->stumpy>=1.7.2->tsfresh>=0.15.0->featuretools-tsfresh-primitives>=0.1.0; extra == \"complete\"->featuretools[complete]) (0.34.0)\n",
      "Requirement already satisfied: pyasn1-modules>=0.2.1 in /home/b2b/anaconda3/lib/python3.8/site-packages (from google-auth<2,>=1.6.3->tensorboard~=2.4->tensorflow>=1.14.0; extra == \"complete\"->nlp-primitives[complete]>=1.0.0; extra == \"complete\"->featuretools[complete]) (0.2.8)\n",
      "Requirement already satisfied: cachetools<5.0,>=2.0.0 in /home/b2b/anaconda3/lib/python3.8/site-packages (from google-auth<2,>=1.6.3->tensorboard~=2.4->tensorflow>=1.14.0; extra == \"complete\"->nlp-primitives[complete]>=1.0.0; extra == \"complete\"->featuretools[complete]) (4.2.0)\n",
      "Requirement already satisfied: rsa<5,>=3.1.4; python_version >= \"3.6\" in /home/b2b/anaconda3/lib/python3.8/site-packages (from google-auth<2,>=1.6.3->tensorboard~=2.4->tensorflow>=1.14.0; extra == \"complete\"->nlp-primitives[complete]>=1.0.0; extra == \"complete\"->featuretools[complete]) (4.6)\n",
      "Requirement already satisfied: requests-oauthlib>=0.7.0 in /home/b2b/anaconda3/lib/python3.8/site-packages (from google-auth-oauthlib<0.5,>=0.4.1->tensorboard~=2.4->tensorflow>=1.14.0; extra == \"complete\"->nlp-primitives[complete]>=1.0.0; extra == \"complete\"->featuretools[complete]) (1.3.0)\n",
      "Requirement already satisfied: pyasn1<0.5.0,>=0.4.6 in /home/b2b/anaconda3/lib/python3.8/site-packages (from pyasn1-modules>=0.2.1->google-auth<2,>=1.6.3->tensorboard~=2.4->tensorflow>=1.14.0; extra == \"complete\"->nlp-primitives[complete]>=1.0.0; extra == \"complete\"->featuretools[complete]) (0.4.8)\n",
      "Requirement already satisfied: oauthlib>=3.0.0 in /home/b2b/anaconda3/lib/python3.8/site-packages (from requests-oauthlib>=0.7.0->google-auth-oauthlib<0.5,>=0.4.1->tensorboard~=2.4->tensorflow>=1.14.0; extra == \"complete\"->nlp-primitives[complete]>=1.0.0; extra == \"complete\"->featuretools[complete]) (3.1.0)\n"
     ]
    },
    {
     "name": "stdout",
     "output_type": "stream",
     "text": [
      "Collecting package metadata (current_repodata.json): done\n",
      "Solving environment: - \n",
      "The environment is inconsistent, please check the package plan carefully\n",
      "The following packages are causing the inconsistency:\n",
      "\n",
      "  - defaults/linux-64::astroid==2.4.2=py38_0\n",
      "  - defaults/noarch::qtconsole==4.7.7=py_0\n",
      "  - defaults/noarch::seaborn==0.11.0=py_0\n",
      "  - defaults/linux-64::mkl_random==1.1.1=py38h0573a6f_0\n",
      "  - defaults/linux-64::ipykernel==5.3.4=py38h5ca1d4c_0\n",
      "  - pytorch/linux-64::torchaudio==0.7.2=py38\n",
      "  - defaults/noarch::python-language-server==0.35.1=py_0\n",
      "  - defaults/linux-64::widgetsnbextension==3.5.1=py38_0\n",
      "  - defaults/linux-64::bkcharts==0.2=py38_0\n",
      "  - defaults/linux-64::pytables==3.6.1=py38h9fd0a39_0\n",
      "  - defaults/noarch::jupyterlab_server==1.2.0=py_0\n",
      "  - defaults/linux-64::jupyter==1.0.0=py38_7\n",
      "  - defaults/linux-64::patsy==0.5.1=py38_0\n",
      "  - defaults/linux-64::numpy==1.19.2=py38h54aff64_0\n",
      "  - defaults/linux-64::anaconda-client==1.7.2=py38_0\n",
      "  - defaults/noarch::sphinx==3.2.1=py_0\n",
      "  - defaults/linux-64::mkl_fft==1.2.0=py38h23d657b_0\n",
      "  - defaults/linux-64::bottleneck==1.3.2=py38heb32a55_1\n",
      "  - defaults/noarch::jupyter_client==6.1.7=py_0\n",
      "  - defaults/linux-64::pylint==2.6.0=py38_0\n",
      "  - defaults/linux-64::conda==4.9.2=py38h06a4308_0\n",
      "  - defaults/linux-64::numba==0.51.2=py38h0573a6f_1\n",
      "  - defaults/linux-64::scikit-image==0.17.2=py38hdf5156a_0\n",
      "  - defaults/linux-64::notebook==6.1.4=py38_0\n",
      "  - defaults/noarch::jupyter_console==6.2.0=py_0\n",
      "  - defaults/linux-64::astropy==4.0.2=py38h7b6447c_0\n",
      "  - defaults/noarch::numpydoc==1.1.0=pyhd3eb1b0_1\n",
      "  - defaults/linux-64::matplotlib==3.3.2=0\n",
      "  - defaults/linux-64::_ipyw_jlab_nb_ext_conf==0.1.0=py38_0\n",
      "  - defaults/linux-64::anaconda-navigator==1.10.0=py38_0\n",
      "  - defaults/noarch::nbclient==0.5.1=py_0\n",
      "  - defaults/linux-64::spyder==4.1.5=py38_0\n",
      "  - defaults/noarch::dask==2.30.0=py_0\n",
      "  - defaults/linux-64::scikit-learn==0.23.2=py38h0573a6f_0\n",
      "  - defaults/noarch::ipywidgets==7.5.1=py_1\n",
      "  - defaults/linux-64::spyder-kernels==1.9.4=py38_0\n",
      "  - defaults/linux-64::matplotlib-base==3.3.2=py38h817c723_0\n",
      "  - defaults/noarch::jupyterlab==2.2.6=py_0\n",
      "  - defaults/noarch::anaconda-project==0.8.4=py_0\n",
      "  - defaults/linux-64::statsmodels==0.12.0=py38h7b6447c_0\n",
      "  - defaults/linux-64::anaconda==2020.11=py38_0\n",
      "  - defaults/linux-64::h5py==2.10.0=py38h7918eee_0\n",
      "  - defaults/linux-64::nbconvert==6.0.7=py38_0\n",
      "  - defaults/linux-64::pywavelets==1.1.1=py38h7b6447c_2\n",
      "  - defaults/linux-64::bokeh==2.2.3=py38_0\n",
      "  - defaults/linux-64::numexpr==2.7.1=py38h423224d_0\n",
      "  - defaults/linux-64::conda-build==3.20.5=py38_1\n",
      "  - defaults/linux-64::tifffile==2020.10.1=py38hdd07704_2\n",
      "failed with initial frozen solve. Retrying with flexible solve.\n",
      "Solving environment: failed with repodata from current_repodata.json, will retry with next repodata source.\n",
      "Collecting package metadata (repodata.json): done\n",
      "Solving environment: - \n",
      "The environment is inconsistent, please check the package plan carefully\n",
      "The following packages are causing the inconsistency:\n",
      "\n",
      "  - defaults/linux-64::astroid==2.4.2=py38_0\n",
      "  - defaults/noarch::qtconsole==4.7.7=py_0\n",
      "  - defaults/noarch::seaborn==0.11.0=py_0\n",
      "  - defaults/linux-64::mkl_random==1.1.1=py38h0573a6f_0\n",
      "  - defaults/linux-64::ipykernel==5.3.4=py38h5ca1d4c_0\n",
      "  - pytorch/linux-64::torchaudio==0.7.2=py38\n",
      "  - defaults/noarch::python-language-server==0.35.1=py_0\n",
      "  - defaults/linux-64::widgetsnbextension==3.5.1=py38_0\n",
      "  - defaults/linux-64::bkcharts==0.2=py38_0\n",
      "  - defaults/linux-64::pytables==3.6.1=py38h9fd0a39_0\n",
      "  - defaults/noarch::jupyterlab_server==1.2.0=py_0\n",
      "  - defaults/linux-64::jupyter==1.0.0=py38_7\n",
      "  - defaults/linux-64::patsy==0.5.1=py38_0\n",
      "  - defaults/linux-64::numpy==1.19.2=py38h54aff64_0\n",
      "  - defaults/linux-64::anaconda-client==1.7.2=py38_0\n",
      "  - defaults/noarch::sphinx==3.2.1=py_0\n",
      "  - defaults/linux-64::mkl_fft==1.2.0=py38h23d657b_0\n",
      "  - defaults/linux-64::bottleneck==1.3.2=py38heb32a55_1\n",
      "  - defaults/noarch::jupyter_client==6.1.7=py_0\n",
      "  - defaults/linux-64::pylint==2.6.0=py38_0\n",
      "  - defaults/linux-64::conda==4.9.2=py38h06a4308_0\n",
      "  - defaults/linux-64::numba==0.51.2=py38h0573a6f_1\n",
      "  - defaults/linux-64::scikit-image==0.17.2=py38hdf5156a_0\n",
      "  - defaults/linux-64::notebook==6.1.4=py38_0\n",
      "  - defaults/noarch::jupyter_console==6.2.0=py_0\n",
      "  - defaults/linux-64::astropy==4.0.2=py38h7b6447c_0\n",
      "  - defaults/noarch::numpydoc==1.1.0=pyhd3eb1b0_1\n",
      "  - defaults/linux-64::matplotlib==3.3.2=0\n",
      "  - defaults/linux-64::_ipyw_jlab_nb_ext_conf==0.1.0=py38_0\n",
      "  - defaults/linux-64::anaconda-navigator==1.10.0=py38_0\n",
      "  - defaults/noarch::nbclient==0.5.1=py_0\n",
      "  - defaults/linux-64::spyder==4.1.5=py38_0\n",
      "  - defaults/noarch::dask==2.30.0=py_0\n",
      "  - defaults/linux-64::scikit-learn==0.23.2=py38h0573a6f_0\n",
      "  - defaults/noarch::ipywidgets==7.5.1=py_1\n",
      "  - defaults/linux-64::spyder-kernels==1.9.4=py38_0\n",
      "  - defaults/linux-64::matplotlib-base==3.3.2=py38h817c723_0\n",
      "  - defaults/noarch::jupyterlab==2.2.6=py_0\n",
      "  - defaults/noarch::anaconda-project==0.8.4=py_0\n",
      "  - defaults/linux-64::statsmodels==0.12.0=py38h7b6447c_0\n",
      "  - defaults/linux-64::anaconda==2020.11=py38_0\n",
      "  - defaults/linux-64::h5py==2.10.0=py38h7918eee_0\n",
      "  - defaults/linux-64::nbconvert==6.0.7=py38_0\n",
      "  - defaults/linux-64::pywavelets==1.1.1=py38h7b6447c_2\n",
      "  - defaults/linux-64::bokeh==2.2.3=py38_0\n",
      "  - defaults/linux-64::numexpr==2.7.1=py38h423224d_0\n",
      "  - defaults/linux-64::conda-build==3.20.5=py38_1\n",
      "  - defaults/linux-64::tifffile==2020.10.1=py38hdd07704_2\n",
      "done\n",
      "\n",
      "\n",
      "==> WARNING: A newer version of conda exists. <==\n",
      "  current version: 4.9.2\n",
      "  latest version: 4.10.0\n",
      "\n",
      "Please update conda by running\n",
      "\n",
      "    $ conda update -n base -c defaults conda\n",
      "\n",
      "\n",
      "\n",
      "## Package Plan ##\n",
      "\n",
      "  environment location: /home/b2b/anaconda3\n",
      "\n",
      "  added / updated specs:\n",
      "    - python-graphviz\n",
      "\n",
      "\n",
      "The following packages will be downloaded:\n",
      "\n",
      "    package                    |            build\n",
      "    ---------------------------|-----------------\n",
      "    cffi-1.14.0                |   py38h2e261b9_0         226 KB\n",
      "    docutils-0.17              |   py38h06a4308_1         691 KB\n",
      "    glib-2.63.1                |       h5a9c865_0         2.9 MB\n",
      "    graphviz-2.40.1            |       h21bd128_2         6.5 MB\n",
      "    harfbuzz-1.8.8             |       hffaf4a1_0         507 KB\n",
      "    imageio-2.9.0              |     pyhd3eb1b0_0         3.0 MB\n",
      "    libffi-3.2.1               |    hf484d3e_1007          48 KB\n",
      "    pango-1.42.4               |       h049681c_0         464 KB\n",
      "    pytest-6.2.3               |   py38h06a4308_2         424 KB\n",
      "    python-3.8.2               |       hcf32534_0        49.6 MB\n",
      "    python-graphviz-0.16       |     pyhd3eb1b0_1          20 KB\n",
      "    typing-extensions-3.7.4.3  |                0          12 KB\n",
      "    ------------------------------------------------------------\n",
      "                                           Total:        64.3 MB\n",
      "\n",
      "The following NEW packages will be INSTALLED:\n",
      "\n",
      "  _anaconda_depends  pkgs/main/linux-64::_anaconda_depends-2020.07-py38_0\n",
      "  _pytorch_select    pkgs/main/linux-64::_pytorch_select-0.1-cpu_0\n",
      "  cloudpickle        pkgs/main/noarch::cloudpickle-1.6.0-py_0\n",
      "  dask-core          pkgs/main/noarch::dask-core-2.30.0-py_0\n",
      "  distributed        pkgs/main/linux-64::distributed-2.30.1-py38h06a4308_0\n",
      "  docutils           pkgs/main/linux-64::docutils-0.17-py38h06a4308_1\n",
      "  graphviz           pkgs/main/linux-64::graphviz-2.40.1-h21bd128_2\n",
      "  imageio            pkgs/main/noarch::imageio-2.9.0-pyhd3eb1b0_0\n",
      "  libllvm9           pkgs/main/linux-64::libllvm9-9.0.1-h4a3c616_1\n",
      "  libmklml           pkgs/main/linux-64::libmklml-2019.0.5-0\n",
      "  mock               pkgs/main/noarch::mock-4.0.3-pyhd3eb1b0_0\n",
      "  msgpack-python     pkgs/main/linux-64::msgpack-python-1.0.2-py38hff7bd54_1\n",
      "  numpy-base         pkgs/main/linux-64::numpy-base-1.19.2-py38hfa32c7d_0\n",
      "  pandas             pkgs/main/linux-64::pandas-1.2.3-py38ha9443f7_0\n",
      "  pillow             pkgs/main/linux-64::pillow-8.2.0-py38he98fc37_0\n",
      "  pytest             pkgs/main/linux-64::pytest-6.2.3-py38h06a4308_2\n",
      "  python-dateutil    pkgs/main/noarch::python-dateutil-2.8.1-pyhd3eb1b0_0\n",
      "  python-graphviz    pkgs/main/noarch::python-graphviz-0.16-pyhd3eb1b0_1\n",
      "  pytorch            pkgs/main/linux-64::pytorch-1.7.1-cpu_py38h6a09485_0\n",
      "  ruamel_yaml        pkgs/main/linux-64::ruamel_yaml-0.15.100-py38h27cfd23_0\n",
      "  scipy              pkgs/main/linux-64::scipy-1.6.2-py38h91f5cce_0\n",
      "  snappy             pkgs/main/linux-64::snappy-1.1.8-he6710b0_0\n",
      "  typing-extensions  pkgs/main/noarch::typing-extensions-3.7.4.3-0\n",
      "  wrapt              pkgs/main/linux-64::wrapt-1.11.2-py38h7b6447c_0\n",
      "\n",
      "The following packages will be UPDATED:\n",
      "\n",
      "  ca-certificates                              2020.10.14-0 --> 2021.1.19-h06a4308_1\n",
      "  certifi            pkgs/main/noarch::certifi-2020.6.20-p~ --> pkgs/main/linux-64::certifi-2020.12.5-py38h06a4308_0\n",
      "  openssl                                 1.1.1h-h7b6447c_0 --> 1.1.1k-h27cfd23_0\n",
      "\n",
      "The following packages will be DOWNGRADED:\n",
      "\n",
      "  anaconda                                   2020.11-py38_0 --> custom-py38_1\n",
      "  cffi                                1.14.3-py38he30daa8_0 --> 1.14.0-py38h2e261b9_0\n",
      "  glib                                    2.66.1-h92f7085_0 --> 2.63.1-h5a9c865_0\n",
      "  harfbuzz                                 2.4.0-hca77d97_1 --> 1.8.8-hffaf4a1_0\n",
      "  intel-openmp                                   2020.2-254 --> 2019.4-243\n",
      "  libffi                                     3.3-he6710b0_2 --> 3.2.1-hf484d3e_1007\n",
      "  pango                                   1.45.3-hd140c19_0 --> 1.42.4-h049681c_0\n",
      "  python                                   3.8.5-h7579374_1 --> 3.8.2-hcf32534_0\n",
      "\n",
      "\n"
     ]
    },
    {
     "name": "stdout",
     "output_type": "stream",
     "text": [
      "Proceed ([y]/n)? ^C\r\n",
      "\r\n",
      "CondaSystemExit: \r\n",
      "Operation aborted.  Exiting.\r\n",
      "\r\n"
     ]
    }
   ],
   "source": [
    "!pip install \"featuretools[complete]\"\n",
    "!conda install python-graphviz"
   ]
  },
  {
   "cell_type": "code",
   "execution_count": 1,
   "metadata": {},
   "outputs": [
    {
     "name": "stderr",
     "output_type": "stream",
     "text": [
      "WARNING:root:'PYARROW_IGNORE_TIMEZONE' environment variable was not set. It is required to set this environment variable to '1' in both driver and executor sides if you use pyarrow>=2.0.0. Koalas will set it for you but it does not work if there is a Spark context already launched.\n"
     ]
    },
    {
     "name": "stdout",
     "output_type": "stream",
     "text": [
      "2021-04-11 09:23:56,082 featuretools - WARNING    Featuretools failed to load plugin tsfresh from library featuretools_tsfresh_primitives.__init__. For a full stack trace, set logging to debug.\n"
     ]
    }
   ],
   "source": [
    "import featuretools as ft\n"
   ]
  },
  {
   "cell_type": "code",
   "execution_count": 2,
   "metadata": {},
   "outputs": [
    {
     "name": "stderr",
     "output_type": "stream",
     "text": [
      "/home/b2b/anaconda3/lib/python3.8/site-packages/ipykernel/ipkernel.py:287: DeprecationWarning: `should_run_async` will not call `transform_cell` automatically in the future. Please pass the result to `transformed_cell` argument and any exception that happen during thetransform in `preprocessing_exc_tuple` in IPython 7.17 and above.\n",
      "  and should_run_async(code)\n"
     ]
    }
   ],
   "source": [
    "data = ft.demo.load_mock_customer()\n"
   ]
  },
  {
   "cell_type": "code",
   "execution_count": 3,
   "metadata": {},
   "outputs": [
    {
     "name": "stderr",
     "output_type": "stream",
     "text": [
      "/home/b2b/anaconda3/lib/python3.8/site-packages/ipykernel/ipkernel.py:287: DeprecationWarning: `should_run_async` will not call `transform_cell` automatically in the future. Please pass the result to `transformed_cell` argument and any exception that happen during thetransform in `preprocessing_exc_tuple` in IPython 7.17 and above.\n",
      "  and should_run_async(code)\n"
     ]
    }
   ],
   "source": [
    "customers_df = data[\"customers\"]\n",
    "sessions_df = data[\"sessions\"]\n",
    "transactions_df = data[\"transactions\"]"
   ]
  },
  {
   "cell_type": "code",
   "execution_count": 4,
   "metadata": {},
   "outputs": [
    {
     "name": "stderr",
     "output_type": "stream",
     "text": [
      "/home/b2b/anaconda3/lib/python3.8/site-packages/ipykernel/ipkernel.py:287: DeprecationWarning: `should_run_async` will not call `transform_cell` automatically in the future. Please pass the result to `transformed_cell` argument and any exception that happen during thetransform in `preprocessing_exc_tuple` in IPython 7.17 and above.\n",
      "  and should_run_async(code)\n"
     ]
    },
    {
     "data": {
      "text/html": [
       "<div>\n",
       "<style scoped>\n",
       "    .dataframe tbody tr th:only-of-type {\n",
       "        vertical-align: middle;\n",
       "    }\n",
       "\n",
       "    .dataframe tbody tr th {\n",
       "        vertical-align: top;\n",
       "    }\n",
       "\n",
       "    .dataframe thead th {\n",
       "        text-align: right;\n",
       "    }\n",
       "</style>\n",
       "<table border=\"1\" class=\"dataframe\">\n",
       "  <thead>\n",
       "    <tr style=\"text-align: right;\">\n",
       "      <th></th>\n",
       "      <th>customer_id</th>\n",
       "      <th>zip_code</th>\n",
       "      <th>join_date</th>\n",
       "      <th>date_of_birth</th>\n",
       "    </tr>\n",
       "  </thead>\n",
       "  <tbody>\n",
       "    <tr>\n",
       "      <th>0</th>\n",
       "      <td>1</td>\n",
       "      <td>60091</td>\n",
       "      <td>2011-04-17 10:48:33</td>\n",
       "      <td>1994-07-18</td>\n",
       "    </tr>\n",
       "    <tr>\n",
       "      <th>1</th>\n",
       "      <td>2</td>\n",
       "      <td>13244</td>\n",
       "      <td>2012-04-15 23:31:04</td>\n",
       "      <td>1986-08-18</td>\n",
       "    </tr>\n",
       "    <tr>\n",
       "      <th>2</th>\n",
       "      <td>3</td>\n",
       "      <td>13244</td>\n",
       "      <td>2011-08-13 15:42:34</td>\n",
       "      <td>2003-11-21</td>\n",
       "    </tr>\n",
       "    <tr>\n",
       "      <th>3</th>\n",
       "      <td>4</td>\n",
       "      <td>60091</td>\n",
       "      <td>2011-04-08 20:08:14</td>\n",
       "      <td>2006-08-15</td>\n",
       "    </tr>\n",
       "    <tr>\n",
       "      <th>4</th>\n",
       "      <td>5</td>\n",
       "      <td>60091</td>\n",
       "      <td>2010-07-17 05:27:50</td>\n",
       "      <td>1984-07-28</td>\n",
       "    </tr>\n",
       "  </tbody>\n",
       "</table>\n",
       "</div>"
      ],
      "text/plain": [
       "   customer_id zip_code           join_date date_of_birth\n",
       "0            1    60091 2011-04-17 10:48:33    1994-07-18\n",
       "1            2    13244 2012-04-15 23:31:04    1986-08-18\n",
       "2            3    13244 2011-08-13 15:42:34    2003-11-21\n",
       "3            4    60091 2011-04-08 20:08:14    2006-08-15\n",
       "4            5    60091 2010-07-17 05:27:50    1984-07-28"
      ]
     },
     "execution_count": 4,
     "metadata": {},
     "output_type": "execute_result"
    }
   ],
   "source": [
    "customers_df"
   ]
  },
  {
   "cell_type": "raw",
   "metadata": {},
   "source": [
    "Each table is called an entity in Featuretools.\n",
    "we specify a dictionary with all the entities in our dataset."
   ]
  },
  {
   "cell_type": "code",
   "execution_count": 5,
   "metadata": {},
   "outputs": [
    {
     "name": "stderr",
     "output_type": "stream",
     "text": [
      "/home/b2b/anaconda3/lib/python3.8/site-packages/ipykernel/ipkernel.py:287: DeprecationWarning: `should_run_async` will not call `transform_cell` automatically in the future. Please pass the result to `transformed_cell` argument and any exception that happen during thetransform in `preprocessing_exc_tuple` in IPython 7.17 and above.\n",
      "  and should_run_async(code)\n"
     ]
    }
   ],
   "source": [
    "entities = {    \"customers\" : (customers_df, \"customer_id\"),    \n",
    "            \"sessions\" : (sessions_df, \"session_id\"),   \n",
    "            \"transactions\" : (transactions_df, \"transaction_id\") }"
   ]
  },
  {
   "cell_type": "raw",
   "metadata": {},
   "source": [
    "Second, we specify how the entities are related. When two entities have a one-to-many relationship, we call the “one” enitity, the “parent entity”. A relationship between a parent and child is defined like this:\n",
    "\n",
    "(parent_entity, parent_variable, child_entity, child_variable)\n"
   ]
  },
  {
   "cell_type": "code",
   "execution_count": 6,
   "metadata": {},
   "outputs": [
    {
     "name": "stderr",
     "output_type": "stream",
     "text": [
      "/home/b2b/anaconda3/lib/python3.8/site-packages/ipykernel/ipkernel.py:287: DeprecationWarning: `should_run_async` will not call `transform_cell` automatically in the future. Please pass the result to `transformed_cell` argument and any exception that happen during thetransform in `preprocessing_exc_tuple` in IPython 7.17 and above.\n",
      "  and should_run_async(code)\n"
     ]
    }
   ],
   "source": [
    "relationships = [(\"sessions\", \"session_id\", \"transactions\", \"session_id\"),\n",
    "                 (\"customers\", \"customer_id\", \"sessions\", \"customer_id\")]\n"
   ]
  },
  {
   "cell_type": "raw",
   "metadata": {},
   "source": [
    "Run Deep Feature Synthesis\n",
    "A minimal input to DFS is a set of entities, a list of relationships, and the “target_entity” to calculate features for. The ouput of DFS is a feature matrix and the corresponding list of feature definitions.\n",
    "\n",
    "Let’s first create a feature matrix for each customer in the data"
   ]
  },
  {
   "cell_type": "code",
   "execution_count": 7,
   "metadata": {},
   "outputs": [
    {
     "name": "stderr",
     "output_type": "stream",
     "text": [
      "/home/b2b/anaconda3/lib/python3.8/site-packages/ipykernel/ipkernel.py:287: DeprecationWarning: `should_run_async` will not call `transform_cell` automatically in the future. Please pass the result to `transformed_cell` argument and any exception that happen during thetransform in `preprocessing_exc_tuple` in IPython 7.17 and above.\n",
      "  and should_run_async(code)\n"
     ]
    }
   ],
   "source": [
    "feature_matrix_customers, features_defs = ft.dfs(entities=entities,\n",
    "                                                  relationships=relationships,\n",
    "                                                  target_entity=\"customers\")\n"
   ]
  },
  {
   "cell_type": "code",
   "execution_count": 8,
   "metadata": {},
   "outputs": [
    {
     "name": "stderr",
     "output_type": "stream",
     "text": [
      "/home/b2b/anaconda3/lib/python3.8/site-packages/ipykernel/ipkernel.py:287: DeprecationWarning: `should_run_async` will not call `transform_cell` automatically in the future. Please pass the result to `transformed_cell` argument and any exception that happen during thetransform in `preprocessing_exc_tuple` in IPython 7.17 and above.\n",
      "  and should_run_async(code)\n"
     ]
    },
    {
     "data": {
      "text/html": [
       "<div>\n",
       "<style scoped>\n",
       "    .dataframe tbody tr th:only-of-type {\n",
       "        vertical-align: middle;\n",
       "    }\n",
       "\n",
       "    .dataframe tbody tr th {\n",
       "        vertical-align: top;\n",
       "    }\n",
       "\n",
       "    .dataframe thead th {\n",
       "        text-align: right;\n",
       "    }\n",
       "</style>\n",
       "<table border=\"1\" class=\"dataframe\">\n",
       "  <thead>\n",
       "    <tr style=\"text-align: right;\">\n",
       "      <th></th>\n",
       "      <th>zip_code</th>\n",
       "      <th>COUNT(sessions)</th>\n",
       "      <th>MODE(sessions.device)</th>\n",
       "      <th>NUM_UNIQUE(sessions.device)</th>\n",
       "      <th>COUNT(transactions)</th>\n",
       "      <th>MAX(transactions.amount)</th>\n",
       "      <th>MEAN(transactions.amount)</th>\n",
       "      <th>MIN(transactions.amount)</th>\n",
       "      <th>MODE(transactions.product_id)</th>\n",
       "      <th>NUM_UNIQUE(transactions.product_id)</th>\n",
       "      <th>...</th>\n",
       "      <th>SUM(sessions.MAX(transactions.amount))</th>\n",
       "      <th>SUM(sessions.MEAN(transactions.amount))</th>\n",
       "      <th>SUM(sessions.MIN(transactions.amount))</th>\n",
       "      <th>SUM(sessions.NUM_UNIQUE(transactions.product_id))</th>\n",
       "      <th>SUM(sessions.SKEW(transactions.amount))</th>\n",
       "      <th>SUM(sessions.STD(transactions.amount))</th>\n",
       "      <th>MODE(transactions.sessions.customer_id)</th>\n",
       "      <th>MODE(transactions.sessions.device)</th>\n",
       "      <th>NUM_UNIQUE(transactions.sessions.customer_id)</th>\n",
       "      <th>NUM_UNIQUE(transactions.sessions.device)</th>\n",
       "    </tr>\n",
       "    <tr>\n",
       "      <th>customer_id</th>\n",
       "      <th></th>\n",
       "      <th></th>\n",
       "      <th></th>\n",
       "      <th></th>\n",
       "      <th></th>\n",
       "      <th></th>\n",
       "      <th></th>\n",
       "      <th></th>\n",
       "      <th></th>\n",
       "      <th></th>\n",
       "      <th></th>\n",
       "      <th></th>\n",
       "      <th></th>\n",
       "      <th></th>\n",
       "      <th></th>\n",
       "      <th></th>\n",
       "      <th></th>\n",
       "      <th></th>\n",
       "      <th></th>\n",
       "      <th></th>\n",
       "      <th></th>\n",
       "    </tr>\n",
       "  </thead>\n",
       "  <tbody>\n",
       "    <tr>\n",
       "      <th>1</th>\n",
       "      <td>60091</td>\n",
       "      <td>8</td>\n",
       "      <td>mobile</td>\n",
       "      <td>3</td>\n",
       "      <td>126</td>\n",
       "      <td>139.43</td>\n",
       "      <td>71.631905</td>\n",
       "      <td>5.81</td>\n",
       "      <td>4</td>\n",
       "      <td>5</td>\n",
       "      <td>...</td>\n",
       "      <td>1057.97</td>\n",
       "      <td>582.193117</td>\n",
       "      <td>78.59</td>\n",
       "      <td>40</td>\n",
       "      <td>-0.476122</td>\n",
       "      <td>312.745952</td>\n",
       "      <td>1</td>\n",
       "      <td>mobile</td>\n",
       "      <td>1</td>\n",
       "      <td>3</td>\n",
       "    </tr>\n",
       "    <tr>\n",
       "      <th>2</th>\n",
       "      <td>13244</td>\n",
       "      <td>7</td>\n",
       "      <td>desktop</td>\n",
       "      <td>3</td>\n",
       "      <td>93</td>\n",
       "      <td>146.81</td>\n",
       "      <td>77.422366</td>\n",
       "      <td>8.73</td>\n",
       "      <td>4</td>\n",
       "      <td>5</td>\n",
       "      <td>...</td>\n",
       "      <td>931.63</td>\n",
       "      <td>548.905851</td>\n",
       "      <td>154.60</td>\n",
       "      <td>35</td>\n",
       "      <td>-0.277640</td>\n",
       "      <td>258.700528</td>\n",
       "      <td>2</td>\n",
       "      <td>desktop</td>\n",
       "      <td>1</td>\n",
       "      <td>3</td>\n",
       "    </tr>\n",
       "    <tr>\n",
       "      <th>3</th>\n",
       "      <td>13244</td>\n",
       "      <td>6</td>\n",
       "      <td>desktop</td>\n",
       "      <td>3</td>\n",
       "      <td>93</td>\n",
       "      <td>149.15</td>\n",
       "      <td>67.060430</td>\n",
       "      <td>5.89</td>\n",
       "      <td>1</td>\n",
       "      <td>5</td>\n",
       "      <td>...</td>\n",
       "      <td>847.63</td>\n",
       "      <td>405.237462</td>\n",
       "      <td>66.21</td>\n",
       "      <td>29</td>\n",
       "      <td>2.286086</td>\n",
       "      <td>257.299895</td>\n",
       "      <td>3</td>\n",
       "      <td>desktop</td>\n",
       "      <td>1</td>\n",
       "      <td>3</td>\n",
       "    </tr>\n",
       "    <tr>\n",
       "      <th>4</th>\n",
       "      <td>60091</td>\n",
       "      <td>8</td>\n",
       "      <td>mobile</td>\n",
       "      <td>3</td>\n",
       "      <td>109</td>\n",
       "      <td>149.95</td>\n",
       "      <td>80.070459</td>\n",
       "      <td>5.73</td>\n",
       "      <td>2</td>\n",
       "      <td>5</td>\n",
       "      <td>...</td>\n",
       "      <td>1157.99</td>\n",
       "      <td>649.657515</td>\n",
       "      <td>131.51</td>\n",
       "      <td>37</td>\n",
       "      <td>0.002764</td>\n",
       "      <td>356.125829</td>\n",
       "      <td>4</td>\n",
       "      <td>mobile</td>\n",
       "      <td>1</td>\n",
       "      <td>3</td>\n",
       "    </tr>\n",
       "    <tr>\n",
       "      <th>5</th>\n",
       "      <td>60091</td>\n",
       "      <td>6</td>\n",
       "      <td>mobile</td>\n",
       "      <td>3</td>\n",
       "      <td>79</td>\n",
       "      <td>149.02</td>\n",
       "      <td>80.375443</td>\n",
       "      <td>7.55</td>\n",
       "      <td>5</td>\n",
       "      <td>5</td>\n",
       "      <td>...</td>\n",
       "      <td>839.76</td>\n",
       "      <td>472.231119</td>\n",
       "      <td>86.49</td>\n",
       "      <td>30</td>\n",
       "      <td>0.014384</td>\n",
       "      <td>259.873954</td>\n",
       "      <td>5</td>\n",
       "      <td>mobile</td>\n",
       "      <td>1</td>\n",
       "      <td>3</td>\n",
       "    </tr>\n",
       "  </tbody>\n",
       "</table>\n",
       "<p>5 rows × 77 columns</p>\n",
       "</div>"
      ],
      "text/plain": [
       "            zip_code  COUNT(sessions) MODE(sessions.device)  \\\n",
       "customer_id                                                   \n",
       "1              60091                8                mobile   \n",
       "2              13244                7               desktop   \n",
       "3              13244                6               desktop   \n",
       "4              60091                8                mobile   \n",
       "5              60091                6                mobile   \n",
       "\n",
       "             NUM_UNIQUE(sessions.device)  COUNT(transactions)  \\\n",
       "customer_id                                                     \n",
       "1                                      3                  126   \n",
       "2                                      3                   93   \n",
       "3                                      3                   93   \n",
       "4                                      3                  109   \n",
       "5                                      3                   79   \n",
       "\n",
       "             MAX(transactions.amount)  MEAN(transactions.amount)  \\\n",
       "customer_id                                                        \n",
       "1                              139.43                  71.631905   \n",
       "2                              146.81                  77.422366   \n",
       "3                              149.15                  67.060430   \n",
       "4                              149.95                  80.070459   \n",
       "5                              149.02                  80.375443   \n",
       "\n",
       "             MIN(transactions.amount)  MODE(transactions.product_id)  \\\n",
       "customer_id                                                            \n",
       "1                                5.81                              4   \n",
       "2                                8.73                              4   \n",
       "3                                5.89                              1   \n",
       "4                                5.73                              2   \n",
       "5                                7.55                              5   \n",
       "\n",
       "             NUM_UNIQUE(transactions.product_id)  ...  \\\n",
       "customer_id                                       ...   \n",
       "1                                              5  ...   \n",
       "2                                              5  ...   \n",
       "3                                              5  ...   \n",
       "4                                              5  ...   \n",
       "5                                              5  ...   \n",
       "\n",
       "             SUM(sessions.MAX(transactions.amount))  \\\n",
       "customer_id                                           \n",
       "1                                           1057.97   \n",
       "2                                            931.63   \n",
       "3                                            847.63   \n",
       "4                                           1157.99   \n",
       "5                                            839.76   \n",
       "\n",
       "             SUM(sessions.MEAN(transactions.amount))  \\\n",
       "customer_id                                            \n",
       "1                                         582.193117   \n",
       "2                                         548.905851   \n",
       "3                                         405.237462   \n",
       "4                                         649.657515   \n",
       "5                                         472.231119   \n",
       "\n",
       "             SUM(sessions.MIN(transactions.amount))  \\\n",
       "customer_id                                           \n",
       "1                                             78.59   \n",
       "2                                            154.60   \n",
       "3                                             66.21   \n",
       "4                                            131.51   \n",
       "5                                             86.49   \n",
       "\n",
       "             SUM(sessions.NUM_UNIQUE(transactions.product_id))  \\\n",
       "customer_id                                                      \n",
       "1                                                           40   \n",
       "2                                                           35   \n",
       "3                                                           29   \n",
       "4                                                           37   \n",
       "5                                                           30   \n",
       "\n",
       "             SUM(sessions.SKEW(transactions.amount))  \\\n",
       "customer_id                                            \n",
       "1                                          -0.476122   \n",
       "2                                          -0.277640   \n",
       "3                                           2.286086   \n",
       "4                                           0.002764   \n",
       "5                                           0.014384   \n",
       "\n",
       "             SUM(sessions.STD(transactions.amount))  \\\n",
       "customer_id                                           \n",
       "1                                        312.745952   \n",
       "2                                        258.700528   \n",
       "3                                        257.299895   \n",
       "4                                        356.125829   \n",
       "5                                        259.873954   \n",
       "\n",
       "             MODE(transactions.sessions.customer_id)  \\\n",
       "customer_id                                            \n",
       "1                                                  1   \n",
       "2                                                  2   \n",
       "3                                                  3   \n",
       "4                                                  4   \n",
       "5                                                  5   \n",
       "\n",
       "             MODE(transactions.sessions.device)  \\\n",
       "customer_id                                       \n",
       "1                                        mobile   \n",
       "2                                       desktop   \n",
       "3                                       desktop   \n",
       "4                                        mobile   \n",
       "5                                        mobile   \n",
       "\n",
       "             NUM_UNIQUE(transactions.sessions.customer_id)  \\\n",
       "customer_id                                                  \n",
       "1                                                        1   \n",
       "2                                                        1   \n",
       "3                                                        1   \n",
       "4                                                        1   \n",
       "5                                                        1   \n",
       "\n",
       "             NUM_UNIQUE(transactions.sessions.device)  \n",
       "customer_id                                            \n",
       "1                                                   3  \n",
       "2                                                   3  \n",
       "3                                                   3  \n",
       "4                                                   3  \n",
       "5                                                   3  \n",
       "\n",
       "[5 rows x 77 columns]"
      ]
     },
     "execution_count": 8,
     "metadata": {},
     "output_type": "execute_result"
    }
   ],
   "source": [
    "feature_matrix_customers"
   ]
  },
  {
   "cell_type": "raw",
   "metadata": {},
   "source": [
    "One of the reasons DFS is so powerful is that it can create a feature matrix for any entity in our data. For example, if we wanted to build features for sessions."
   ]
  },
  {
   "cell_type": "code",
   "execution_count": 9,
   "metadata": {},
   "outputs": [
    {
     "name": "stderr",
     "output_type": "stream",
     "text": [
      "/home/b2b/anaconda3/lib/python3.8/site-packages/ipykernel/ipkernel.py:287: DeprecationWarning: `should_run_async` will not call `transform_cell` automatically in the future. Please pass the result to `transformed_cell` argument and any exception that happen during thetransform in `preprocessing_exc_tuple` in IPython 7.17 and above.\n",
      "  and should_run_async(code)\n"
     ]
    }
   ],
   "source": [
    "feature = features_defs[18]"
   ]
  },
  {
   "cell_type": "code",
   "execution_count": 10,
   "metadata": {},
   "outputs": [
    {
     "name": "stderr",
     "output_type": "stream",
     "text": [
      "/home/b2b/anaconda3/lib/python3.8/site-packages/ipykernel/ipkernel.py:287: DeprecationWarning: `should_run_async` will not call `transform_cell` automatically in the future. Please pass the result to `transformed_cell` argument and any exception that happen during thetransform in `preprocessing_exc_tuple` in IPython 7.17 and above.\n",
      "  and should_run_async(code)\n"
     ]
    },
    {
     "data": {
      "text/plain": [
       "<Feature: WEEKDAY(join_date)>"
      ]
     },
     "execution_count": 10,
     "metadata": {},
     "output_type": "execute_result"
    }
   ],
   "source": [
    "feature"
   ]
  },
  {
   "cell_type": "raw",
   "metadata": {},
   "source": [
    "eature lineage graphs visually walk through feature generation. Starting from the base data, they show step by step the primitives applied and intermediate features generated to create the final feature."
   ]
  },
  {
   "cell_type": "code",
   "execution_count": 11,
   "metadata": {},
   "outputs": [
    {
     "name": "stderr",
     "output_type": "stream",
     "text": [
      "/home/b2b/anaconda3/lib/python3.8/site-packages/ipykernel/ipkernel.py:287: DeprecationWarning: `should_run_async` will not call `transform_cell` automatically in the future. Please pass the result to `transformed_cell` argument and any exception that happen during thetransform in `preprocessing_exc_tuple` in IPython 7.17 and above.\n",
      "  and should_run_async(code)\n"
     ]
    },
    {
     "data": {
      "image/svg+xml": [
       "<?xml version=\"1.0\" encoding=\"UTF-8\" standalone=\"no\"?>\n",
       "<!DOCTYPE svg PUBLIC \"-//W3C//DTD SVG 1.1//EN\"\n",
       " \"http://www.w3.org/Graphics/SVG/1.1/DTD/svg11.dtd\">\n",
       "<!-- Generated by graphviz version 2.40.1 (20161225.0304)\n",
       " -->\n",
       "<!-- Title: WEEKDAY(join_date) Pages: 1 -->\n",
       "<svg width=\"440pt\" height=\"127pt\"\n",
       " viewBox=\"0.00 0.00 440.00 127.00\" xmlns=\"http://www.w3.org/2000/svg\" xmlns:xlink=\"http://www.w3.org/1999/xlink\">\n",
       "<g id=\"graph0\" class=\"graph\" transform=\"scale(1 1) rotate(0) translate(4 123)\">\n",
       "<title>WEEKDAY(join_date)</title>\n",
       "<polygon fill=\"#ffffff\" stroke=\"transparent\" points=\"-4,4 -4,-123 436,-123 436,4 -4,4\"/>\n",
       "<!-- customers -->\n",
       "<g id=\"node1\" class=\"node\">\n",
       "<title>customers</title>\n",
       "<polygon fill=\"#a9a9a9\" stroke=\"transparent\" points=\"8,-77.5 8,-114.5 200,-114.5 200,-77.5 8,-77.5\"/>\n",
       "<polygon fill=\"none\" stroke=\"#000000\" points=\"8,-77.5 8,-114.5 200,-114.5 200,-77.5 8,-77.5\"/>\n",
       "<text text-anchor=\"start\" x=\"19\" y=\"-93.3\" font-family=\"Times,serif\" font-weight=\"bold\" font-size=\"14.00\" fill=\"#000000\">★ customers (target)</text>\n",
       "<polygon fill=\"none\" stroke=\"#000000\" points=\"8,-40.5 8,-77.5 200,-77.5 200,-40.5 8,-40.5\"/>\n",
       "<text text-anchor=\"start\" x=\"19\" y=\"-55.3\" font-family=\"Times,serif\" font-size=\"14.00\" fill=\"#000000\">join_date</text>\n",
       "<polygon fill=\"#d9ead3\" stroke=\"transparent\" points=\"8,-3.5 8,-40.5 200,-40.5 200,-3.5 8,-3.5\"/>\n",
       "<polygon fill=\"none\" stroke=\"#000000\" points=\"8,-3.5 8,-40.5 200,-40.5 200,-3.5 8,-3.5\"/>\n",
       "<text text-anchor=\"start\" x=\"19\" y=\"-18.3\" font-family=\"Times,serif\" font-size=\"14.00\" fill=\"#000000\">WEEKDAY(join_date)</text>\n",
       "</g>\n",
       "<!-- 0_WEEKDAY(join_date)_weekday -->\n",
       "<g id=\"node2\" class=\"node\">\n",
       "<title>0_WEEKDAY(join_date)_weekday</title>\n",
       "<polygon fill=\"none\" stroke=\"#000000\" points=\"338,-74.5 244,-40.5 338,-6.5 432,-40.5 338,-74.5\"/>\n",
       "<text text-anchor=\"start\" x=\"303\" y=\"-44.9\" font-family=\"Times,serif\" font-weight=\"bold\" font-size=\"12.00\" fill=\"#000000\">Transform</text>\n",
       "<text text-anchor=\"start\" x=\"299\" y=\"-31.3\" font-family=\"Times,serif\" font-size=\"14.00\" fill=\"#000000\">WEEKDAY</text>\n",
       "</g>\n",
       "<!-- customers&#45;&gt;0_WEEKDAY(join_date)_weekday -->\n",
       "<g id=\"edge2\" class=\"edge\">\n",
       "<title>customers:join_date&#45;&gt;0_WEEKDAY(join_date)_weekday</title>\n",
       "<path fill=\"none\" stroke=\"#000000\" d=\"M200,-58.5C221.3865,-58.5 244.4819,-56.348 265.5477,-53.5323\"/>\n",
       "<polygon fill=\"#000000\" stroke=\"#000000\" points=\"266.2945,-56.9618 275.7096,-52.1032 265.3196,-50.03 266.2945,-56.9618\"/>\n",
       "</g>\n",
       "<!-- 0_WEEKDAY(join_date)_weekday&#45;&gt;customers -->\n",
       "<g id=\"edge1\" class=\"edge\">\n",
       "<title>0_WEEKDAY(join_date)_weekday&#45;&gt;customers:WEEKDAY(join_date)</title>\n",
       "<path fill=\"none\" stroke=\"#000000\" d=\"M277.107,-28.467C256.3508,-25.1971 232.7044,-22.3592 210.2294,-21.663\"/>\n",
       "<polygon fill=\"#000000\" stroke=\"#000000\" points=\"210.0545,-18.1599 200,-21.5 209.9429,-25.159 210.0545,-18.1599\"/>\n",
       "</g>\n",
       "</g>\n",
       "</svg>\n"
      ],
      "text/plain": [
       "<graphviz.dot.Digraph at 0x7f57e4fc4d90>"
      ]
     },
     "execution_count": 11,
     "metadata": {},
     "output_type": "execute_result"
    }
   ],
   "source": [
    "ft.graph_feature(feature)\n"
   ]
  },
  {
   "cell_type": "raw",
   "metadata": {},
   "source": [
    "Feature descriptions`"
   ]
  },
  {
   "cell_type": "code",
   "execution_count": 12,
   "metadata": {},
   "outputs": [
    {
     "name": "stderr",
     "output_type": "stream",
     "text": [
      "/home/b2b/anaconda3/lib/python3.8/site-packages/ipykernel/ipkernel.py:287: DeprecationWarning: `should_run_async` will not call `transform_cell` automatically in the future. Please pass the result to `transformed_cell` argument and any exception that happen during thetransform in `preprocessing_exc_tuple` in IPython 7.17 and above.\n",
      "  and should_run_async(code)\n"
     ]
    },
    {
     "data": {
      "text/plain": [
       "'The day of the week of the \"join_date\".'"
      ]
     },
     "execution_count": 12,
     "metadata": {},
     "output_type": "execute_result"
    }
   ],
   "source": [
    "ft.describe_feature(feature)"
   ]
  },
  {
   "cell_type": "code",
   "execution_count": null,
   "metadata": {},
   "outputs": [],
   "source": []
  }
 ],
 "metadata": {
  "kernelspec": {
   "display_name": "Python 3",
   "language": "python",
   "name": "python3"
  },
  "language_info": {
   "codemirror_mode": {
    "name": "ipython",
    "version": 3
   },
   "file_extension": ".py",
   "mimetype": "text/x-python",
   "name": "python",
   "nbconvert_exporter": "python",
   "pygments_lexer": "ipython3",
   "version": "3.8.2"
  },
  "metadata": {
   "interpreter": {
    "hash": "97434b6e617f6fcd3f4cf5832f8d2b75b54f4f9e4600b6017b334e17f24906ab"
   }
  }
 },
 "nbformat": 4,
 "nbformat_minor": 2
}
